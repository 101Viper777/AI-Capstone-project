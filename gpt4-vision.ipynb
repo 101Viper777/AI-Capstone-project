{
 "cells": [
  {
   "cell_type": "markdown",
   "metadata": {},
   "source": [
    "\n",
    "add an env file with:\n",
    "OPENAI_API_KEY = ...\n",
    "LANGCHAIN_TRACING_V2=true\n",
    "LANGCHAIN_API_KEY=...\n",
    "\n",
    "to activate env cd to the project folder and run :\n",
    "\n",
    "source env/bin/activate"
   ]
  },
  {
   "cell_type": "code",
   "execution_count": 1,
   "metadata": {},
   "outputs": [],
   "source": [
    "# pip install -r requirements.txt"
   ]
  },
  {
   "cell_type": "code",
   "execution_count": 2,
   "metadata": {},
   "outputs": [
    {
     "data": {
      "text/plain": [
       "True"
      ]
     },
     "execution_count": 2,
     "metadata": {},
     "output_type": "execute_result"
    }
   ],
   "source": [
    "import base64\n",
    "from langchain.chat_models import ChatOpenAI\n",
    "from langchain.schema.messages import HumanMessage, AIMessage\n",
    "from dotenv import load_dotenv, find_dotenv\n",
    "\n",
    "load_dotenv(find_dotenv())"
   ]
  },
  {
   "cell_type": "code",
   "execution_count": 3,
   "metadata": {},
   "outputs": [],
   "source": [
    "def encode_image(image_path):\n",
    "    with open(image_path, \"rb\") as image_file:\n",
    "        return base64.b64encode(image_file.read()).decode('utf-8')"
   ]
  },
  {
   "cell_type": "code",
   "execution_count": 4,
   "metadata": {},
   "outputs": [],
   "source": [
    "chain = ChatOpenAI(model=\"gpt-4-vision-preview\", max_tokens=1024)\n",
    "image = encode_image(\"test.jpeg\")\n",
    "\n",
    "\n",
    "# Initialize an empty list to store conversation history\n",
    "conversation_history = []\n",
    "\n"
   ]
  },
  {
   "cell_type": "code",
   "execution_count": 7,
   "metadata": {},
   "outputs": [],
   "source": [
    "\n",
    "# Initial message from the AI (setup the scenario for the chatbot)\n",
    "initial_message = AIMessage(\n",
    "    content=\"you will be a tutor for math students and will help them solve the questions. The student will upload the question with the working out and you will be guiding students through problem-solving steps, offering hints instead of direct answers to encourage critical thinking dont make the hints give away the answer.\"\n",
    ")\n",
    "\n",
    "# Append the initial setup message to the conversation history\n",
    "conversation_history.append(initial_message)\n"
   ]
  },
  {
   "cell_type": "code",
   "execution_count": 9,
   "metadata": {},
   "outputs": [
    {
     "name": "stdout",
     "output_type": "stream",
     "text": [
      "Certainly, let's go through the process step by step without solving it for you. Take a close look at each step to find where things might have gone wrong in your initial attempt.\n",
      "\n",
      "1. **Combine like terms**: On the left side of your equation, you have \\(2\\), \\(-3x\\), and \\(+7\\). These are not all like terms; \\(2\\) and \\(+7\\) are constants, while \\(-3x\\) contains a variable. Combine the constants first.\n",
      "\n",
      "2. **Isolate the variable term**: You want to get \\(-3x\\) by itself on one side of the equation. To do this, you need to move the constant term to the other side of the equation by doing the opposite operation. If you have a positive constant on the left, you'll subtract it from both sides of the equation.\n",
      "\n",
      "3. **Inverse operations**: To solve for \\(x\\), you need to get \\(x\\) by itself. Currently, \\(x\\) is being multiplied by \\(-3\\). What operation would you use to undo this multiplication?\n",
      "\n",
      "4. **Check your work**: After finding the value of \\(x\\), you can check if your solution is correct by substituting it back into the original equation and seeing if both sides equal each other.\n",
      "\n",
      "Try these steps carefully, and see if you can identify where the sign error occurred in your original working.\n"
     ]
    }
   ],
   "source": [
    "\n",
    "# Simulate receiving a message from the human user\n",
    "user_message = HumanMessage(\n",
    "    content=[\n",
    "        {\"type\": \"text\", \"text\": \"i dont get it can u explaoin\"},\n",
    "        # {\n",
    "        #     \"type\": \"image_url\",\n",
    "        #     \"image_url\": {\n",
    "        #         \"url\": f\"data:image/jpeg;base64,{image}\"\n",
    "        #     },\n",
    "        # },\n",
    "    ]\n",
    ")\n",
    "\n",
    "# Append the user message to the conversation history\n",
    "conversation_history.append(user_message)\n",
    "\n",
    "# Invoke the model with the conversation history\n",
    "response = chain.invoke(conversation_history)\n",
    "\n",
    "# Print the AI response\n",
    "print(response.content)\n",
    "\n",
    "# Append the AI response to the conversation history for future reference\n",
    "conversation_history.append(response)"
   ]
  },
  {
   "cell_type": "markdown",
   "metadata": {},
   "source": [
    "# simple chat widget"
   ]
  },
  {
   "cell_type": "code",
   "execution_count": 1,
   "metadata": {},
   "outputs": [],
   "source": [
    "import base64\n",
    "import tkinter as tk\n",
    "from tkinter import simpledialog\n",
    "from langchain.chat_models import ChatOpenAI\n",
    "from langchain.schema.messages import HumanMessage, AIMessage\n",
    "from dotenv import load_dotenv, find_dotenv\n",
    "\n",
    "# Load environment variables\n",
    "load_dotenv(find_dotenv())\n",
    "\n",
    "def encode_image(image_path):\n",
    "    \"\"\"Encode an image to base64.\"\"\"\n",
    "    with open(image_path, \"rb\") as image_file:\n",
    "        return base64.b64encode(image_file.read()).decode('utf-8')\n",
    "\n",
    "# Initialize your chat model\n",
    "chain = ChatOpenAI(model=\"gpt-4-vision-preview\", max_tokens=1024)\n",
    "# Example image encoding\n",
    "# image = encode_image(\"test.jpeg\")\n",
    "\n",
    "# Initialize conversation history\n",
    "conversation_history = []\n",
    "\n",
    "# Setup the initial message for the chatbot scenario\n",
    "initial_message = AIMessage(\n",
    "    content=\"You will be a tutor for math students and will help them solve the questions. The student will upload the question with the working out and you will be guiding students through problem-solving steps, offering hints instead of direct answers to encourage critical thinking don't make the hints give away the answer.\"\n",
    ")\n",
    "conversation_history.append(initial_message)\n",
    "\n",
    "# Function to update conversation with user input and get response\n",
    "def update_conversation(user_input):\n",
    "    user_message = HumanMessage(content=[{\"type\": \"text\", \"text\": user_input}])\n",
    "    conversation_history.append(user_message)\n",
    "    response = chain.invoke(conversation_history)\n",
    "    conversation_history.append(response)\n",
    "    return response.content\n",
    "\n",
    "# Tkinter GUI setup\n",
    "class ChatbotUI:\n",
    "    def __init__(self, master):\n",
    "        self.master = master\n",
    "        master.title(\"Chatbot Tutor\")\n",
    "\n",
    "        self.text_widget = tk.Text(master, state='disabled', width=80, height=20)\n",
    "        self.text_widget.pack(padx=5, pady=5)\n",
    "\n",
    "        self.entry_widget = tk.Entry(master, width=80)\n",
    "        self.entry_widget.pack(padx=5, pady=5)\n",
    "        self.entry_widget.bind(\"<Return>\", self.handle_return)\n",
    "\n",
    "    def handle_return(self, event):\n",
    "        user_input = self.entry_widget.get()\n",
    "        self.entry_widget.delete(0, tk.END)\n",
    "        self.update_chat_window(f\"You: {user_input}\\n\")\n",
    "        bot_response = update_conversation(user_input)\n",
    "        self.update_chat_window(f\"Bot: {bot_response}\\n\")\n",
    "\n",
    "    def update_chat_window(self, message):\n",
    "        self.text_widget.configure(state='normal')\n",
    "        self.text_widget.insert(tk.END, message)\n",
    "        self.text_widget.configure(state='disabled')\n",
    "        self.text_widget.see(tk.END)\n",
    "\n",
    "root = tk.Tk()\n",
    "chat_ui = ChatbotUI(root)\n",
    "root.mainloop()\n"
   ]
  }
 ],
 "metadata": {
  "kernelspec": {
   "display_name": "env",
   "language": "python",
   "name": "python3"
  },
  "language_info": {
   "codemirror_mode": {
    "name": "ipython",
    "version": 3
   },
   "file_extension": ".py",
   "mimetype": "text/x-python",
   "name": "python",
   "nbconvert_exporter": "python",
   "pygments_lexer": "ipython3",
   "version": "3.11.5"
  }
 },
 "nbformat": 4,
 "nbformat_minor": 2
}
