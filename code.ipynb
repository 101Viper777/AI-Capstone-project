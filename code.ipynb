{
 "cells": [
  {
   "cell_type": "markdown",
   "metadata": {},
   "source": [
    "\n",
    "add an env file with:\n",
    "OPENAI_API_KEY = ...\n",
    "LANGCHAIN_TRACING_V2=true\n",
    "LANGCHAIN_API_KEY=...\n",
    "\n",
    "to activate env cd to the project folder and run :\n",
    "\n",
    "source env/bin/activate"
   ]
  },
  {
   "cell_type": "code",
   "execution_count": 7,
   "metadata": {},
   "outputs": [
    {
     "name": "stdout",
     "output_type": "stream",
     "text": [
      "Requirement already satisfied: langchain==0.0.331rc2 in ./env/lib/python3.11/site-packages (from -r requirements.txt (line 1)) (0.0.331rc2)\n",
      "Requirement already satisfied: openai>=1.0.0 in ./env/lib/python3.11/site-packages (from -r requirements.txt (line 2)) (1.14.1)\n",
      "Collecting python-dotenv (from -r requirements.txt (line 3))\n",
      "  Obtaining dependency information for python-dotenv from https://files.pythonhosted.org/packages/6a/3e/b68c118422ec867fa7ab88444e1274aa40681c606d59ac27de5a5588f082/python_dotenv-1.0.1-py3-none-any.whl.metadata\n",
      "  Downloading python_dotenv-1.0.1-py3-none-any.whl.metadata (23 kB)\n",
      "Requirement already satisfied: PyYAML>=5.3 in ./env/lib/python3.11/site-packages (from langchain==0.0.331rc2->-r requirements.txt (line 1)) (6.0.1)\n",
      "Requirement already satisfied: SQLAlchemy<3,>=1.4 in ./env/lib/python3.11/site-packages (from langchain==0.0.331rc2->-r requirements.txt (line 1)) (2.0.28)\n",
      "Requirement already satisfied: aiohttp<4.0.0,>=3.8.3 in ./env/lib/python3.11/site-packages (from langchain==0.0.331rc2->-r requirements.txt (line 1)) (3.9.3)\n",
      "Requirement already satisfied: anyio<4.0 in ./env/lib/python3.11/site-packages (from langchain==0.0.331rc2->-r requirements.txt (line 1)) (3.7.1)\n",
      "Requirement already satisfied: dataclasses-json<0.7,>=0.5.7 in ./env/lib/python3.11/site-packages (from langchain==0.0.331rc2->-r requirements.txt (line 1)) (0.6.4)\n",
      "Requirement already satisfied: jsonpatch<2.0,>=1.33 in ./env/lib/python3.11/site-packages (from langchain==0.0.331rc2->-r requirements.txt (line 1)) (1.33)\n",
      "Requirement already satisfied: langsmith<0.1.0,>=0.0.52 in ./env/lib/python3.11/site-packages (from langchain==0.0.331rc2->-r requirements.txt (line 1)) (0.0.92)\n",
      "Requirement already satisfied: numpy<2,>=1 in ./env/lib/python3.11/site-packages (from langchain==0.0.331rc2->-r requirements.txt (line 1)) (1.26.4)\n",
      "Requirement already satisfied: pydantic<3,>=1 in ./env/lib/python3.11/site-packages (from langchain==0.0.331rc2->-r requirements.txt (line 1)) (2.6.4)\n",
      "Requirement already satisfied: requests<3,>=2 in ./env/lib/python3.11/site-packages (from langchain==0.0.331rc2->-r requirements.txt (line 1)) (2.31.0)\n",
      "Requirement already satisfied: tenacity<9.0.0,>=8.1.0 in ./env/lib/python3.11/site-packages (from langchain==0.0.331rc2->-r requirements.txt (line 1)) (8.2.3)\n",
      "Requirement already satisfied: distro<2,>=1.7.0 in ./env/lib/python3.11/site-packages (from openai>=1.0.0->-r requirements.txt (line 2)) (1.9.0)\n",
      "Requirement already satisfied: httpx<1,>=0.23.0 in ./env/lib/python3.11/site-packages (from openai>=1.0.0->-r requirements.txt (line 2)) (0.27.0)\n",
      "Requirement already satisfied: sniffio in ./env/lib/python3.11/site-packages (from openai>=1.0.0->-r requirements.txt (line 2)) (1.3.1)\n",
      "Requirement already satisfied: tqdm>4 in ./env/lib/python3.11/site-packages (from openai>=1.0.0->-r requirements.txt (line 2)) (4.66.2)\n",
      "Requirement already satisfied: typing-extensions<5,>=4.7 in ./env/lib/python3.11/site-packages (from openai>=1.0.0->-r requirements.txt (line 2)) (4.10.0)\n",
      "Requirement already satisfied: aiosignal>=1.1.2 in ./env/lib/python3.11/site-packages (from aiohttp<4.0.0,>=3.8.3->langchain==0.0.331rc2->-r requirements.txt (line 1)) (1.3.1)\n",
      "Requirement already satisfied: attrs>=17.3.0 in ./env/lib/python3.11/site-packages (from aiohttp<4.0.0,>=3.8.3->langchain==0.0.331rc2->-r requirements.txt (line 1)) (23.2.0)\n",
      "Requirement already satisfied: frozenlist>=1.1.1 in ./env/lib/python3.11/site-packages (from aiohttp<4.0.0,>=3.8.3->langchain==0.0.331rc2->-r requirements.txt (line 1)) (1.4.1)\n",
      "Requirement already satisfied: multidict<7.0,>=4.5 in ./env/lib/python3.11/site-packages (from aiohttp<4.0.0,>=3.8.3->langchain==0.0.331rc2->-r requirements.txt (line 1)) (6.0.5)\n",
      "Requirement already satisfied: yarl<2.0,>=1.0 in ./env/lib/python3.11/site-packages (from aiohttp<4.0.0,>=3.8.3->langchain==0.0.331rc2->-r requirements.txt (line 1)) (1.9.4)\n",
      "Requirement already satisfied: idna>=2.8 in ./env/lib/python3.11/site-packages (from anyio<4.0->langchain==0.0.331rc2->-r requirements.txt (line 1)) (3.6)\n",
      "Requirement already satisfied: marshmallow<4.0.0,>=3.18.0 in ./env/lib/python3.11/site-packages (from dataclasses-json<0.7,>=0.5.7->langchain==0.0.331rc2->-r requirements.txt (line 1)) (3.21.1)\n",
      "Requirement already satisfied: typing-inspect<1,>=0.4.0 in ./env/lib/python3.11/site-packages (from dataclasses-json<0.7,>=0.5.7->langchain==0.0.331rc2->-r requirements.txt (line 1)) (0.9.0)\n",
      "Requirement already satisfied: certifi in ./env/lib/python3.11/site-packages (from httpx<1,>=0.23.0->openai>=1.0.0->-r requirements.txt (line 2)) (2024.2.2)\n",
      "Requirement already satisfied: httpcore==1.* in ./env/lib/python3.11/site-packages (from httpx<1,>=0.23.0->openai>=1.0.0->-r requirements.txt (line 2)) (1.0.4)\n",
      "Requirement already satisfied: h11<0.15,>=0.13 in ./env/lib/python3.11/site-packages (from httpcore==1.*->httpx<1,>=0.23.0->openai>=1.0.0->-r requirements.txt (line 2)) (0.14.0)\n",
      "Requirement already satisfied: jsonpointer>=1.9 in ./env/lib/python3.11/site-packages (from jsonpatch<2.0,>=1.33->langchain==0.0.331rc2->-r requirements.txt (line 1)) (2.4)\n",
      "Requirement already satisfied: annotated-types>=0.4.0 in ./env/lib/python3.11/site-packages (from pydantic<3,>=1->langchain==0.0.331rc2->-r requirements.txt (line 1)) (0.6.0)\n",
      "Requirement already satisfied: pydantic-core==2.16.3 in ./env/lib/python3.11/site-packages (from pydantic<3,>=1->langchain==0.0.331rc2->-r requirements.txt (line 1)) (2.16.3)\n",
      "Requirement already satisfied: charset-normalizer<4,>=2 in ./env/lib/python3.11/site-packages (from requests<3,>=2->langchain==0.0.331rc2->-r requirements.txt (line 1)) (3.3.2)\n",
      "Requirement already satisfied: urllib3<3,>=1.21.1 in ./env/lib/python3.11/site-packages (from requests<3,>=2->langchain==0.0.331rc2->-r requirements.txt (line 1)) (2.2.1)\n",
      "Requirement already satisfied: packaging>=17.0 in ./env/lib/python3.11/site-packages (from marshmallow<4.0.0,>=3.18.0->dataclasses-json<0.7,>=0.5.7->langchain==0.0.331rc2->-r requirements.txt (line 1)) (24.0)\n",
      "Requirement already satisfied: mypy-extensions>=0.3.0 in ./env/lib/python3.11/site-packages (from typing-inspect<1,>=0.4.0->dataclasses-json<0.7,>=0.5.7->langchain==0.0.331rc2->-r requirements.txt (line 1)) (1.0.0)\n",
      "Downloading python_dotenv-1.0.1-py3-none-any.whl (19 kB)\n",
      "Installing collected packages: python-dotenv\n",
      "Successfully installed python-dotenv-1.0.1\n",
      "\n",
      "\u001b[1m[\u001b[0m\u001b[34;49mnotice\u001b[0m\u001b[1;39;49m]\u001b[0m\u001b[39;49m A new release of pip is available: \u001b[0m\u001b[31;49m23.2.1\u001b[0m\u001b[39;49m -> \u001b[0m\u001b[32;49m24.0\u001b[0m\n",
      "\u001b[1m[\u001b[0m\u001b[34;49mnotice\u001b[0m\u001b[1;39;49m]\u001b[0m\u001b[39;49m To update, run: \u001b[0m\u001b[32;49mpip install --upgrade pip\u001b[0m\n",
      "Note: you may need to restart the kernel to use updated packages.\n"
     ]
    }
   ],
   "source": [
    "pip install -r requirements.txt"
   ]
  },
  {
   "cell_type": "code",
   "execution_count": 8,
   "metadata": {},
   "outputs": [
    {
     "data": {
      "text/plain": [
       "True"
      ]
     },
     "execution_count": 8,
     "metadata": {},
     "output_type": "execute_result"
    }
   ],
   "source": [
    "import base64\n",
    "from langchain.chat_models import ChatOpenAI\n",
    "from langchain.schema.messages import HumanMessage, AIMessage\n",
    "from dotenv import load_dotenv, find_dotenv\n",
    "\n",
    "load_dotenv(find_dotenv())"
   ]
  },
  {
   "cell_type": "code",
   "execution_count": 9,
   "metadata": {},
   "outputs": [],
   "source": [
    "def encode_image(image_path):\n",
    "    with open(image_path, \"rb\") as image_file:\n",
    "        return base64.b64encode(image_file.read()).decode('utf-8')"
   ]
  },
  {
   "cell_type": "code",
   "execution_count": 10,
   "metadata": {},
   "outputs": [],
   "source": [
    "chain = ChatOpenAI(model=\"gpt-4-vision-preview\", max_tokens=1024)\n"
   ]
  },
  {
   "cell_type": "code",
   "execution_count": 13,
   "metadata": {},
   "outputs": [
    {
     "name": "stdout",
     "output_type": "stream",
     "text": [
      "The graph depicts a curve in the xy-plane. The axes are labeled with \"x\" for the horizontal axis and \"y\" for the vertical axis. The curve appears to be a hyperbola, which is a type of conic section.\n",
      "\n",
      "A hyperbola typically consists of two separate curves that open away from each other. The graph in the image shows only one branch of a hyperbola, which is opening to the right. Given the orientation and position, this branch corresponds to the positive half of a hyperbola that is centered at the origin.\n",
      "\n",
      "The hyperbola is symmetric with respect to the x-axis, as indicated by the negative and positive y-values it takes on. The points where the curve intersects the axes are at (-1, 0) on the x-axis and (0, 1) and (0, -1) on the y-axis. These points suggest that the hyperbola may be represented by the equation of the form \\( \\frac{x^2}{a^2} - \\frac{y^2}{b^2} = 1 \\), where \\( a \\) and \\( b \\) are real numbers that determine the shape and position of the hyperbola.\n",
      "\n",
      "The letter \"b\" with a green color is placed in the upper left corner of the image, but without additional context, its meaning in relation to the graph is unclear. It might refer to a parameter associated with the hyperbola or be a label used in the broader context of the content from which this image is taken.\n"
     ]
    }
   ],
   "source": [
    "image = encode_image(\"2.png\")\n",
    "\n",
    "\n",
    "msg = chain.invoke(\n",
    "    [   AIMessage(\n",
    "        content=\"You are a useful bot that is especially good at OCR from images for math formulas and graphs\"\n",
    "    ),\n",
    "        HumanMessage(\n",
    "            content=[\n",
    "                {\"type\": \"text\", \"text\": \"what is this graph about\"},\n",
    "                {\n",
    "                    \"type\": \"image_url\",\n",
    "                    \"image_url\": {\n",
    "                        \"url\": f\"data:image/jpeg;base64,{image}\"\n",
    "                    },\n",
    "                },\n",
    "            ]\n",
    "        )\n",
    "    ]\n",
    ")\n",
    "print(msg.content)"
   ]
  },
  {
   "cell_type": "code",
   "execution_count": null,
   "metadata": {},
   "outputs": [],
   "source": [
    "from langchain.prompts import PromptTemplate\n",
    "from langchain.chat_models import ChatOpenAI\n",
    "from langchain.schema import StrOutputParser\n",
    "\n",
    "\n",
    "chain = ChatOpenAI(model=\"gpt-3.5-turbo\", max_tokens=1024)\n",
    "prompt = PromptTemplate.from_template(\n",
    "\"\"\"\n",
    "You see the following foods in a product list:\n",
    "{food}\n",
    "Create a dish using only these ingredients and say what it is called. Only return the name of the dish.\n",
    "No additional explanation or anything related. Just the name\n",
    "\n",
    "Example:\n",
    "'Pizza'\n",
    "'Sushi'\n",
    "\n",
    "Output:\n",
    "\"\"\"\n",
    ")\n",
    "runnable = prompt | chain | StrOutputParser()"
   ]
  },
  {
   "cell_type": "code",
   "execution_count": null,
   "metadata": {},
   "outputs": [],
   "source": [
    "dish = runnable.invoke({\"food\": msg.content})\n",
    "print(dish)"
   ]
  },
  {
   "cell_type": "code",
   "execution_count": null,
   "metadata": {},
   "outputs": [],
   "source": [
    "from openai import OpenAI\n",
    "client = OpenAI()\n",
    "\n",
    "response = client.images.generate(\n",
    "  model=\"dall-e-3\",\n",
    "  prompt=f\"A nice candlelight dinner with {dish} for two persons\",\n",
    "  size=\"1024x1024\",\n",
    "  quality=\"standard\",\n",
    "  n=1,\n",
    ")\n",
    "\n",
    "image_url = response.data[0].url\n"
   ]
  },
  {
   "cell_type": "code",
   "execution_count": null,
   "metadata": {},
   "outputs": [],
   "source": [
    "print(image_url)"
   ]
  }
 ],
 "metadata": {
  "kernelspec": {
   "display_name": "app",
   "language": "python",
   "name": "python3"
  },
  "language_info": {
   "codemirror_mode": {
    "name": "ipython",
    "version": 3
   },
   "file_extension": ".py",
   "mimetype": "text/x-python",
   "name": "python",
   "nbconvert_exporter": "python",
   "pygments_lexer": "ipython3",
   "version": "3.11.5"
  }
 },
 "nbformat": 4,
 "nbformat_minor": 2
}
