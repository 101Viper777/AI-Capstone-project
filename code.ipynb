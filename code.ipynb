{
 "cells": [
  {
   "cell_type": "markdown",
   "metadata": {},
   "source": [
    "\n",
    "add an env file with:\n",
    "OPENAI_API_KEY = ...\n",
    "LANGCHAIN_TRACING_V2=true\n",
    "LANGCHAIN_API_KEY=...\n",
    "\n",
    "to activate env cd to the project folder and run :\n",
    "\n",
    "source env/bin/activate"
   ]
  },
  {
   "cell_type": "code",
   "execution_count": null,
   "metadata": {},
   "outputs": [],
   "source": [
    "# pip install -r requirements.txt"
   ]
  },
  {
   "cell_type": "code",
   "execution_count": 8,
   "metadata": {},
   "outputs": [
    {
     "data": {
      "text/plain": [
       "True"
      ]
     },
     "execution_count": 8,
     "metadata": {},
     "output_type": "execute_result"
    }
   ],
   "source": [
    "import base64\n",
    "from langchain.chat_models import ChatOpenAI\n",
    "from langchain.schema.messages import HumanMessage, AIMessage\n",
    "from dotenv import load_dotenv, find_dotenv\n",
    "\n",
    "load_dotenv(find_dotenv())"
   ]
  },
  {
   "cell_type": "code",
   "execution_count": 9,
   "metadata": {},
   "outputs": [],
   "source": [
    "def encode_image(image_path):\n",
    "    with open(image_path, \"rb\") as image_file:\n",
    "        return base64.b64encode(image_file.read()).decode('utf-8')"
   ]
  },
  {
   "cell_type": "code",
   "execution_count": 10,
   "metadata": {},
   "outputs": [],
   "source": [
    "chain = ChatOpenAI(model=\"gpt-4-vision-preview\", max_tokens=1024)\n"
   ]
  },
  {
   "cell_type": "code",
   "execution_count": 17,
   "metadata": {},
   "outputs": [
    {
     "name": "stdout",
     "output_type": "stream",
     "text": [
      "The given image contains three problems, all of which are asking to use Simpson's rule to approximate the integral from x = 3 to x = 5 of the function f(x). The values of f(x) at x = 3, 4, and 5 are provided for each problem.\n",
      "\n",
      "Simpson's rule is given by the formula:\n",
      "\n",
      "\\[ \\int_{a}^{b} f(x) \\, dx \\approx \\frac{\\Delta x}{3} [f(x_0) + 4f(x_1) + f(x_2)] \\]\n",
      "\n",
      "where \\( \\Delta x = \\frac{b - a}{n} \\) (and n is even, which is the case here with n = 2).\n",
      "\n",
      "Let's apply Simpson's rule to each problem:\n",
      "\n",
      "(a) f(x) at x = 3, 4, 5 are 7, 4, and 10, respectively.\n",
      "\\[ \\Delta x = \\frac{5 - 3}{2} = 1 \\]\n",
      "\\[ \\approx \\frac{1}{3} [7 + 4(4) + 10] \\]\n",
      "\\[ \\approx \\frac{1}{3} [7 + 16 + 10] \\]\n",
      "\\[ \\approx \\frac{1}{3} [33] \\]\n",
      "\\[ \\approx 11 \\]\n",
      "\n",
      "(b) f(x) at x = 3, 4, 5 are 2.3, 4.1, and 2.6, respectively.\n",
      "\\[ \\Delta x = \\frac{5 - 3}{2} = 1 \\]\n",
      "\\[ \\approx \\frac{1}{3} [2.3 + 4(4.1) + 2.6] \\]\n",
      "\\[ \\approx \\frac{1}{3} [2.3 + 16.4 + 2.6] \\]\n",
      "\\[ \\approx \\frac{1}{3} [21.3] \\]\n",
      "\\[ \\approx 7.1 \\]\n",
      "\n",
      "(c) f(x) at x = 3, 4, 5 are -8, -4, and -3, respectively.\n",
      "\\[ \\Delta x = \\frac{5 - 3}{2} = 1 \\]\n",
      "\\[ \\approx \\frac{1}{3} [-8 + 4(-4) + (-3)] \\]\n",
      "\\[ \\approx \\frac{1}{3} [-8 - 16 - 3] \\]\n",
      "\\[ \\approx \\frac{1}{3} [-27] \\]\n",
      "\\[ \\approx -9 \\]\n",
      "\n",
      "So the approximations for the integrals using Simpson's rule for each problem are:\n",
      "\n",
      "(a) ≈ 11\n",
      "(b) ≈ 7.1\n",
      "(c) ≈ -9\n"
     ]
    }
   ],
   "source": [
    "image = encode_image(\"3.png\")\n",
    "\n",
    "\n",
    "msg = chain.invoke(\n",
    "    [   AIMessage(\n",
    "        content=\"You are a useful bot that is especially good at OCR from images for math formulas and graphs\"\n",
    "    ),\n",
    "        HumanMessage(\n",
    "            content=[\n",
    "                {\"type\": \"text\", \"text\": \"solve for all questions\"},\n",
    "                {\n",
    "                    \"type\": \"image_url\",\n",
    "                    \"image_url\": {\n",
    "                        \"url\": f\"data:image/jpeg;base64,{image}\"\n",
    "                    },\n",
    "                },\n",
    "            ]\n",
    "        )\n",
    "    ]\n",
    ")\n",
    "print(msg.content)"
   ]
  }
 ],
 "metadata": {
  "kernelspec": {
   "display_name": "app",
   "language": "python",
   "name": "python3"
  },
  "language_info": {
   "codemirror_mode": {
    "name": "ipython",
    "version": 3
   },
   "file_extension": ".py",
   "mimetype": "text/x-python",
   "name": "python",
   "nbconvert_exporter": "python",
   "pygments_lexer": "ipython3",
   "version": "3.11.5"
  }
 },
 "nbformat": 4,
 "nbformat_minor": 2
}
