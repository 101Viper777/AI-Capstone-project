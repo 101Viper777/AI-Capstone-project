{
 "cells": [
  {
   "cell_type": "markdown",
   "metadata": {},
   "source": [
    "\n",
    "add an env file with:\n",
    "OPENAI_API_KEY = ...\n",
    "LANGCHAIN_TRACING_V2=true\n",
    "LANGCHAIN_API_KEY=...\n",
    "\n",
    "to activate env cd to the project folder and run :\n",
    "\n",
    "source env/bin/activate"
   ]
  },
  {
   "cell_type": "code",
   "execution_count": null,
   "metadata": {},
   "outputs": [],
   "source": [
    "# pip install -r requirements.txt"
   ]
  },
  {
   "cell_type": "code",
   "execution_count": 8,
   "metadata": {},
   "outputs": [
    {
     "data": {
      "text/plain": [
       "True"
      ]
     },
     "execution_count": 8,
     "metadata": {},
     "output_type": "execute_result"
    }
   ],
   "source": [
    "import base64\n",
    "from langchain.chat_models import ChatOpenAI\n",
    "from langchain.schema.messages import HumanMessage, AIMessage\n",
    "from dotenv import load_dotenv, find_dotenv\n",
    "\n",
    "load_dotenv(find_dotenv())"
   ]
  },
  {
   "cell_type": "code",
   "execution_count": 9,
   "metadata": {},
   "outputs": [],
   "source": [
    "def encode_image(image_path):\n",
    "    with open(image_path, \"rb\") as image_file:\n",
    "        return base64.b64encode(image_file.read()).decode('utf-8')"
   ]
  },
  {
   "cell_type": "code",
   "execution_count": 24,
   "metadata": {},
   "outputs": [],
   "source": [
    "chain = ChatOpenAI(model=\"gpt-4-vision-preview\", max_tokens=512)\n",
    "image = encode_image(\"3.png\")\n",
    "\n",
    "\n"
   ]
  },
  {
   "cell_type": "code",
   "execution_count": 26,
   "metadata": {},
   "outputs": [
    {
     "name": "stdout",
     "output_type": "stream",
     "text": [
      "The image shows three sets of values for a function \\( f(x) \\) corresponding to \\( x \\) values of 3, 4, and 5. These are to be used to approximate the integral of \\( f(x) \\) from \\( x = 3 \\) to \\( x = 5 \\) using Simpson's rule. Simpson's rule is an approximation method for integrals, which is particularly accurate for quadratic functions or when the interval is small.\n",
      "\n",
      "Simpson's rule formula for approximating the integral of a function \\( f(x) \\) from \\( a \\) to \\( b \\) using \\( n \\) intervals (where \\( n \\) is even) is given by:\n",
      "\n",
      "\\[\n",
      "\\int_{a}^{b} f(x) \\, dx \\approx \\frac{\\Delta x}{3} [f(x_0) + 4f(x_1) + 2f(x_2) + 4f(x_3) + \\ldots + 2f(x_{n-2}) + 4f(x_{n-1}) + f(x_n)]\n",
      "\\]\n",
      "\n",
      "where \\( \\Delta x = \\frac{b-a}{n} \\) and \\( x_0 = a, x_n = b \\).\n",
      "\n",
      "Since we have only three points, our \\( n = 2 \\) and \\( \\Delta x = 1 \\), the formula simplifies to:\n",
      "\n",
      "\\[\n",
      "\\int_{a}^{b} f(x) \\, dx \\approx \\frac{\\Delta x}{3} [f(x_0) + 4f(x_1) + f(x_2)]\n",
      "\\]\n",
      "\n",
      "Now, let's apply Simpson's rule to each set of values:\n",
      "\n",
      "(a) For \\( f(x) \\) values of 7, 4, and 10:\n",
      "\n",
      "\\[\n",
      "\\int_{3}^{5} f(x) \\, dx \\approx \\frac{1}{3} [7 + 4(4) + 10] = \\frac{1}{3} [7 + 16 + 10] = \\frac{1}{3} [33] = 11\n",
      "\\]\n",
      "\n",
      "(b) For \\( f(x) \\) values of 2.3, 4.1, and 2.6:\n",
      "\n",
      "\\[\n",
      "\\int_{3}^{5} f(x) \\, dx \\approx \\frac{1}{3} [2.3 + 4(4.1) +\n"
     ]
    }
   ],
   "source": [
    "\n",
    "msg = chain.invoke(\n",
    "    [   AIMessage(\n",
    "        content=\"You are a useful bot that is especially good at OCR from images for math formulas and graphs\"\n",
    "    ),\n",
    "        HumanMessage(\n",
    "            content=[\n",
    "                {\"type\": \"text\", \"text\": \"solve\"},\n",
    "                {\n",
    "                    \"type\": \"image_url\",\n",
    "                    \"image_url\": {\n",
    "                        \"url\": f\"data:image/jpeg;base64,{image}\"\n",
    "                    },\n",
    "                },\n",
    "            ]\n",
    "        )\n",
    "    ]\n",
    ")\n",
    "print(msg.content)"
   ]
  }
 ],
 "metadata": {
  "kernelspec": {
   "display_name": "app",
   "language": "python",
   "name": "python3"
  },
  "language_info": {
   "codemirror_mode": {
    "name": "ipython",
    "version": 3
   },
   "file_extension": ".py",
   "mimetype": "text/x-python",
   "name": "python",
   "nbconvert_exporter": "python",
   "pygments_lexer": "ipython3",
   "version": "3.11.5"
  }
 },
 "nbformat": 4,
 "nbformat_minor": 2
}
