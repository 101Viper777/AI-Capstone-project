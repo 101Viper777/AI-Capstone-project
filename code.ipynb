{
 "cells": [
  {
   "cell_type": "markdown",
   "metadata": {},
   "source": [
    "\n",
    "add an env file with:\n",
    "OPENAI_API_KEY = ...\n",
    "LANGCHAIN_TRACING_V2=true\n",
    "LANGCHAIN_API_KEY=...\n",
    "\n",
    "to activate env cd to the project folder and run :\n",
    "\n",
    "source env/bin/activate"
   ]
  },
  {
   "cell_type": "code",
   "execution_count": 1,
   "metadata": {},
   "outputs": [],
   "source": [
    "# pip install -r requirements.txt"
   ]
  },
  {
   "cell_type": "code",
   "execution_count": 2,
   "metadata": {},
   "outputs": [
    {
     "data": {
      "text/plain": [
       "True"
      ]
     },
     "execution_count": 2,
     "metadata": {},
     "output_type": "execute_result"
    }
   ],
   "source": [
    "import base64\n",
    "from langchain.chat_models import ChatOpenAI\n",
    "from langchain.schema.messages import HumanMessage, AIMessage\n",
    "from dotenv import load_dotenv, find_dotenv\n",
    "\n",
    "load_dotenv(find_dotenv())"
   ]
  },
  {
   "cell_type": "code",
   "execution_count": 3,
   "metadata": {},
   "outputs": [],
   "source": [
    "def encode_image(image_path):\n",
    "    with open(image_path, \"rb\") as image_file:\n",
    "        return base64.b64encode(image_file.read()).decode('utf-8')"
   ]
  },
  {
   "cell_type": "code",
   "execution_count": 4,
   "metadata": {},
   "outputs": [],
   "source": [
    "chain = ChatOpenAI(model=\"gpt-4-vision-preview\", max_tokens=512)\n",
    "image = encode_image(\"3.png\")\n",
    "\n",
    "\n"
   ]
  },
  {
   "cell_type": "code",
   "execution_count": 5,
   "metadata": {},
   "outputs": [
    {
     "name": "stdout",
     "output_type": "stream",
     "text": [
      "The image shows a math problem asking to use Simpson's rule to approximate the integral of \\( f(x) \\) from 3 to 5, given three sets of values for \\( f(x) \\) at \\( x = 3, 4, 5 \\).\n",
      "\n",
      "Simpson's rule for \\( n \\) even and \\( n \\) subintervals of the interval \\( [a, b] \\) is given by:\n",
      "\n",
      "\\[\n",
      "\\int_{a}^{b} f(x) \\, dx \\approx \\frac{\\Delta x}{3} \\left[ f(x_0) + 4 \\sum_{i=1,3,5,...}^{n-1} f(x_i) + 2 \\sum_{i=2,4,6,...}^{n-2} f(x_i) + f(x_n) \\right]\n",
      "\\]\n",
      "\n",
      "where \\( \\Delta x = \\frac{b-a}{n} \\) and \\( x_0, x_1, ..., x_n \\) are the sample points.\n",
      "\n",
      "Since we are given three points, we have \\( n = 2 \\) and \\( \\Delta x = \\frac{5-3}{2} = 1 \\).\n",
      "\n",
      "Let's calculate the approximate integral for each set of given values:\n",
      "\n",
      "(a)\n",
      "\\[\n",
      "f(3) = 7, f(4) = 4, f(5) = 10\n",
      "\\]\n",
      "\\[\n",
      "\\int_{3}^{5} f(x) \\, dx \\approx \\frac{1}{3} \\left[ 7 + 4(4) + 10 \\right] = \\frac{1}{3} \\left[ 7 + 16 + 10 \\right] = \\frac{1}{3} \\cdot 33 = 11\n",
      "\\]\n",
      "\n",
      "(b)\n",
      "\\[\n",
      "f(3) = 2.3, f(4) = 4.1, f(5) = 2.6\n",
      "\\]\n",
      "\\[\n",
      "\\int_{3}^{5} f(x) \\, dx \\approx \\frac{1}{3} \\left[ 2.3 + 4(4.1) + 2.6 \\right] = \\frac{1}{3} \\left[ 2.3 + 16.4 + 2.6 \\right] = \\frac{1}{3} \\cdot 21.3 = 7.1\n",
      "\\\n"
     ]
    }
   ],
   "source": [
    "\n",
    "msg = chain.invoke(\n",
    "    [   AIMessage(\n",
    "        content=\"You are a useful bot that is especially good at OCR from images for math formulas and graphs\"\n",
    "    ),\n",
    "        HumanMessage(\n",
    "            content=[\n",
    "                {\"type\": \"text\", \"text\": \"solve\"},\n",
    "                {\n",
    "                    \"type\": \"image_url\",\n",
    "                    \"image_url\": {\n",
    "                        \"url\": f\"data:image/jpeg;base64,{image}\"\n",
    "                    },\n",
    "                },\n",
    "            ]\n",
    "        )\n",
    "    ]\n",
    ")\n",
    "print(msg.content)"
   ]
  }
 ],
 "metadata": {
  "kernelspec": {
   "display_name": "app",
   "language": "python",
   "name": "python3"
  },
  "language_info": {
   "codemirror_mode": {
    "name": "ipython",
    "version": 3
   },
   "file_extension": ".py",
   "mimetype": "text/x-python",
   "name": "python",
   "nbconvert_exporter": "python",
   "pygments_lexer": "ipython3",
   "version": "3.11.5"
  }
 },
 "nbformat": 4,
 "nbformat_minor": 2
}
